{
 "cells": [
  {
   "cell_type": "markdown",
   "metadata": {},
   "source": [
    "<center><img src=\"Fig/UGA.png\" width=\"30%\" height=\"30%\"></center>\n",
    "<center><h3>Master of Science in Industrial and Applied Mathematics (MSIAM)  - 1st year</h3></center>\n",
    "<hr>\n",
    "<center><h1>Numerical Optimization</h1></center>\n",
    "<center><h2>Lab on Variance-Reduced Stochastic Gradient</h2></center>"
   ]
  },
  {
   "cell_type": "markdown",
   "metadata": {},
   "source": [
    "---\n",
    "\n",
    "The following script will allow you to import *notebooks* as if you imported *python files* and will have to be executed at each time you launch Jupyter notebooks."
   ]
  },
  {
   "cell_type": "code",
   "execution_count": 7,
   "metadata": {},
   "outputs": [],
   "source": [
    "import start\n",
    "from imp import reload"
   ]
  },
  {
   "cell_type": "markdown",
   "metadata": {},
   "source": [
    "---\n",
    "\n",
    "# Recall of the proximal gradient algorithm\n",
    "\n"
   ]
  },
  {
   "cell_type": "code",
   "execution_count": 8,
   "metadata": {},
   "outputs": [
    {
     "name": "stdout",
     "output_type": "stream",
     "text": [
      "importing notebook from algoProx.ipynb\n",
      "importing notebook from logistic_regression_student.ipynb\n",
      "------------------------------------\n",
      " Proximal gradient algorithm\n",
      "------------------------------------\n",
      "START    -- stepsize = 0.030334772813507393\n",
      "FINISHED -- 898 iterations / 1.555635s -- final value: 0.438713\n",
      "\n",
      "\n"
     ]
    }
   ],
   "source": [
    "import algoProx             # load our algoProx module (from notebook)\n",
    "reload(algoProx)            # reload the module if changed (and saved)\n",
    "from algoProx import *      # import all methods of the module into the current environment\n",
    "\n",
    "import numpy as np\n",
    "import logistic_regression_student as pb\n",
    "reload(pb)\n",
    "\n",
    "#### Parameter we give at our algorithm (see algoGradient.ipynb)\n",
    "PREC    = 1e-5                     # Sought precision\n",
    "ITE_MAX = 1000                      # Max number of iterations\n",
    "x0      = np.zeros(pb.n)              # Initial point\n",
    "step    = 1.0/pb.L\n",
    "\n",
    "##### gradient algorithm\n",
    "x,x_tab = proximal_gradient_algorithm(pb.F , pb.f_grad , pb.g_prox , x0 , step , PREC, ITE_MAX , True)\n",
    "\n"
   ]
  },
  {
   "cell_type": "markdown",
   "metadata": {},
   "source": [
    "## Decrease of the algorithm."
   ]
  },
  {
   "cell_type": "code",
   "execution_count": 9,
   "metadata": {},
   "outputs": [
    {
     "data": {
      "image/png": "[encoded data removed]",
      "text/plain": [
       "<Figure size 432x288 with 1 Axes>"
      ]
     },
     "metadata": {},
     "output_type": "display_data"
    }
   ],
   "source": [
    "import matplotlib.pyplot as plt\n",
    "% matplotlib inline\n",
    "\n",
    "F = []\n",
    "for i in range(x_tab.shape[0]):\n",
    "    F.append( pb.F(x_tab[i])) \n",
    "\n",
    "plt.figure()\n",
    "plt.plot( F, color=\"black\", linewidth=1.0, linestyle=\"-\")\n",
    "plt.grid(True)\n",
    "plt.show()"
   ]
  },
  {
   "cell_type": "markdown",
   "metadata": {},
   "source": [
    "### Support of the vector $x_k$ \n"
   ]
  },
  {
   "cell_type": "code",
   "execution_count": 10,
   "metadata": {},
   "outputs": [
    {
     "data": {
      "image/png": "[encoded data removed]",
      "text/plain": [
       "<Figure size 432x288 with 1 Axes>"
      ]
     },
     "metadata": {},
     "output_type": "display_data"
    }
   ],
   "source": [
    "plt.figure()\n",
    "\n",
    "for i in np.arange(0,x_tab.shape[0],int(x_tab.shape[0]/40)):\n",
    "    for j in range(pb.n):\n",
    "        if np.abs(x_tab[i,j])>1e-14:\n",
    "            plt.plot( i , j  , 'ko')\n",
    "\n",
    "plt.grid(True)\n",
    "plt.ylabel('Non-null Coordinates')\n",
    "plt.xlabel('Nb. Iterations')\n",
    "plt.ylim(-1,pb.d+1)\n",
    "plt.yticks(np.arange(0,pb.d+1))\n",
    "plt.show()"
   ]
  },
  {
   "cell_type": "markdown",
   "metadata": {},
   "source": [
    "---\n",
    "\n",
    "# Stochastic gradient \n",
    "\n",
    "\n",
    "In the following, instead of considering $f$ as a whole, we will use its structure \n",
    "$$ f(x) := \\frac{1}{m}\\sum_{i=1}^m f_i(x)$$\n",
    "\n",
    "> Implement the gradient related to $f_i$, related to one example, in ``[logistic_regression_student]``\n",
    "\n",
    "With this structure a popular minimization algorithm is the *stochastic gradient algorithm* which writes as follows:\n",
    "* Select uniformly $i$ in $1,..,m$\n",
    "* $x_{k+1} = \\mathbf{prox}_{\\gamma g}\\left( x_k - \\gamma_k \\nabla f_i(x_k) \\right) $\n",
    "\n",
    "> Implement this algorithm with a stepsize vanishing as $1/k$"
   ]
  },
  {
   "cell_type": "code",
   "execution_count": 11,
   "metadata": {},
   "outputs": [
    {
     "ename": "AttributeError",
     "evalue": "module 'logistic_regression_student' has no attribute 'f_grad_i'",
     "output_type": "error",
     "traceback": [
      "\u001b[0;31m---------------------------------------------------------------------------\u001b[0m",
      "\u001b[0;31mAttributeError\u001b[0m                            Traceback (most recent call last)",
      "\u001b[0;32m<ipython-input-11-af6bd0eb0a83>\u001b[0m in \u001b[0;36m<module>\u001b[0;34m()\u001b[0m\n\u001b[1;32m      6\u001b[0m \u001b[0;34m\u001b[0m\u001b[0m\n\u001b[1;32m      7\u001b[0m \u001b[0;31m##### stochastic gradient algorithm\u001b[0m\u001b[0;34m\u001b[0m\u001b[0;34m\u001b[0m\u001b[0m\n\u001b[0;32m----> 8\u001b[0;31m \u001b[0mx\u001b[0m\u001b[0;34m,\u001b[0m\u001b[0mx_tab\u001b[0m \u001b[0;34m=\u001b[0m \u001b[0mstochastic_gradient_descent\u001b[0m\u001b[0;34m(\u001b[0m\u001b[0mpb\u001b[0m\u001b[0;34m.\u001b[0m\u001b[0mF\u001b[0m \u001b[0;34m,\u001b[0m \u001b[0mpb\u001b[0m\u001b[0;34m.\u001b[0m\u001b[0mf_grad\u001b[0m \u001b[0;34m,\u001b[0m \u001b[0mpb\u001b[0m\u001b[0;34m.\u001b[0m\u001b[0mf_grad_i\u001b[0m \u001b[0;34m,\u001b[0m \u001b[0mpb\u001b[0m\u001b[0;34m.\u001b[0m\u001b[0mg_prox\u001b[0m \u001b[0;34m,\u001b[0m \u001b[0mx0\u001b[0m \u001b[0;34m,\u001b[0m \u001b[0mpb\u001b[0m\u001b[0;34m.\u001b[0m\u001b[0mm\u001b[0m\u001b[0;34m,\u001b[0m \u001b[0mstep\u001b[0m \u001b[0;34m,\u001b[0m \u001b[0mPREC\u001b[0m \u001b[0;34m,\u001b[0m \u001b[0mITE_MAX\u001b[0m \u001b[0;34m,\u001b[0m  \u001b[0;32mTrue\u001b[0m\u001b[0;34m)\u001b[0m\u001b[0;34m\u001b[0m\u001b[0m\n\u001b[0m",
      "\u001b[0;31mAttributeError\u001b[0m: module 'logistic_regression_student' has no attribute 'f_grad_i'"
     ]
    }
   ],
   "source": [
    "### Parameter we give at our algorithm (see algoGradient.ipynb)\n",
    "PREC    = 0.001                     # Sought precision\n",
    "ITE_MAX = 1000                      # Max number of iterations\n",
    "x0      = np.zeros(pb.n)              # Initial point\n",
    "step    = 1.0/pb.L\n",
    "\n",
    "##### stochastic gradient algorithm\n",
    "x,x_tab = stochastic_gradient_descent(pb.F , pb.f_grad , pb.f_grad_i , pb.g_prox , x0 , pb.m, step , PREC , ITE_MAX ,  True)"
   ]
  },
  {
   "cell_type": "markdown",
   "metadata": {},
   "source": [
    "## Decrease of the algorithm."
   ]
  },
  {
   "cell_type": "code",
   "execution_count": null,
   "metadata": {},
   "outputs": [],
   "source": [
    "F = []\n",
    "for i in range(x_tab.shape[0]):\n",
    "    F.append( pb.F(x_tab[i])) \n",
    "\n",
    "plt.figure()\n",
    "plt.plot( F, color=\"black\", linewidth=1.0, linestyle=\"-\")\n",
    "plt.grid(True)\n",
    "plt.show()"
   ]
  },
  {
   "cell_type": "markdown",
   "metadata": {},
   "source": [
    "### Support of the vector $x_k$ \n"
   ]
  },
  {
   "cell_type": "code",
   "execution_count": null,
   "metadata": {},
   "outputs": [],
   "source": [
    "plt.figure()\n",
    "\n",
    "for i in np.arange(0,x_tab.shape[0],int(x_tab.shape[0]/40)):\n",
    "    for j in range(pb.n):\n",
    "        if np.abs(x_tab[i,j])>1e-14:\n",
    "            plt.plot( i , j  , 'ko')\n",
    "\n",
    "plt.grid(True)\n",
    "plt.ylabel('Non-null Coordinates')\n",
    "plt.xlabel('Nb. Iterations')\n",
    "plt.ylim(-1,pb.d+1)\n",
    "plt.yticks(np.arange(0,pb.d+1))\n",
    "plt.show()"
   ]
  },
  {
   "cell_type": "markdown",
   "metadata": {},
   "source": [
    "### Variance reduction\n",
    "\n",
    "The poor performance of this algorithm is notably due to the variance of the gradients. In order to overcome it, *variance reduced* algorithms have been proposed.\n",
    "\n",
    "We will consider here the popular **SAGA** algorithm  (SAGA: A fast incremental gradient method with support for non-strongly convex composite objectives\n",
    "A Defazio, F Bach, S Lacoste-Julien, NIPS 2014. ) \n",
    "\n",
    "> Implement SAGA from the paper ( http://papers.nips.cc/paper/5258-saga-a-fast-incremental-gradient-method-with-support-for-non-strongly-convex-composite-objectives ) and compare with the stochastic gradient algorithm.\n"
   ]
  },
  {
   "cell_type": "code",
   "execution_count": null,
   "metadata": {},
   "outputs": [],
   "source": [
    "#### Parameter we give at our algorithm (see algoGradient.ipynb)\n",
    "PREC    = 0.00001                     # Sought precision\n",
    "ITE_MAX = 1000                      # Max number of iterations\n",
    "x0      = np.zeros(pb.n)              # Initial point\n",
    "step    = 1.0/pb.L\n",
    "\n",
    "##### stochastic gradient algorithm\n",
    "x,x_tab = saga(pb.F , pb.f_grad , pb.f_grad_i , pb.g_prox , x0 , pb.m, step , PREC , ITE_MAX ,  True)"
   ]
  },
  {
   "cell_type": "markdown",
   "metadata": {},
   "source": [
    "## Decrease of the algorithm."
   ]
  },
  {
   "cell_type": "code",
   "execution_count": null,
   "metadata": {},
   "outputs": [],
   "source": [
    "F = []\n",
    "for i in range(x_tab.shape[0]):\n",
    "    F.append( pb.F(x_tab[i])) \n",
    "\n",
    "plt.figure()\n",
    "plt.plot( F, color=\"black\", linewidth=1.0, linestyle=\"-\")\n",
    "plt.grid(True)\n",
    "plt.show()"
   ]
  },
  {
   "cell_type": "markdown",
   "metadata": {},
   "source": [
    "### Support of the vector $x_k$ \n"
   ]
  },
  {
   "cell_type": "code",
   "execution_count": null,
   "metadata": {},
   "outputs": [],
   "source": [
    "plt.figure()\n",
    "\n",
    "for i in np.arange(0,x_tab.shape[0],int(x_tab.shape[0]/40)):\n",
    "    for j in range(pb.n):\n",
    "        if np.abs(x_tab[i,j])>1e-14:\n",
    "            plt.plot( i , j  , 'ko')\n",
    "\n",
    "plt.grid(True)\n",
    "plt.ylabel('Non-null Coordinates')\n",
    "plt.xlabel('Nb. Iterations')\n",
    "plt.ylim(-1,pb.d+1)\n",
    "plt.yticks(np.arange(0,pb.d+1))\n",
    "plt.show()"
   ]
  }
 ],
 "metadata": {
  "kernelspec": {
   "display_name": "Python 3",
   "language": "python",
   "name": "python3"
  },
  "language_info": {
   "codemirror_mode": {
    "name": "ipython",
    "version": 3
   },
   "file_extension": ".py",
   "mimetype": "text/x-python",
   "name": "python",
   "nbconvert_exporter": "python",
   "pygments_lexer": "ipython3",
   "version": "3.6.5"
  }
 },
 "nbformat": 4,
 "nbformat_minor": 2
}
